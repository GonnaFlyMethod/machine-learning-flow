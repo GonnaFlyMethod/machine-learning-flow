{
 "cells": [
  {
   "cell_type": "code",
   "execution_count": 3,
   "id": "d0133d02",
   "metadata": {
    "scrolled": true
   },
   "outputs": [],
   "source": [
    "import pandas as pd\n",
    "from sklearn.tree import DecisionTreeClassifier  # The model that we're going to use\n",
    "from sklearn.model_selection import train_test_split  # helps us split data on train data and test data\n",
    "from sklearn.metrics import accuracy_score  # helps us to measure the accuracy of our model\n",
    "import joblib  # helps us to save trained models\n",
    "from sklearn import tree  # helps us to visualize decision tree"
   ]
  },
  {
   "cell_type": "code",
   "execution_count": 4,
   "id": "fe82b930",
   "metadata": {},
   "outputs": [],
   "source": [
    "# Loading dataset\n",
    "music_data = pd.read_csv(\"music.csv\")\n",
    "X = music_data.drop(labels=\"genre\", axis=1)\n",
    "y = music_data[\"genre\"]"
   ]
  },
  {
   "cell_type": "code",
   "execution_count": 5,
   "id": "5bbc7c0d",
   "metadata": {},
   "outputs": [],
   "source": [
    "# Spliting data on train data for model and test data to test the accuracy of our model\n",
    "X_train, X_test, y_train, y_test = train_test_split(X, y, test_size=0.2)"
   ]
  },
  {
   "cell_type": "code",
   "execution_count": 6,
   "id": "52f24453",
   "metadata": {},
   "outputs": [],
   "source": [
    "# Selecting model for traning\n",
    "model = DecisionTreeClassifier()"
   ]
  },
  {
   "cell_type": "code",
   "execution_count": 7,
   "id": "974ef61c",
   "metadata": {},
   "outputs": [
    {
     "data": {
      "text/plain": [
       "DecisionTreeClassifier()"
      ]
     },
     "execution_count": 7,
     "metadata": {},
     "output_type": "execute_result"
    }
   ],
   "source": [
    "# Train model\n",
    "model.fit(X_train, y_train)"
   ]
  },
  {
   "cell_type": "code",
   "execution_count": 8,
   "id": "815f4ae4",
   "metadata": {},
   "outputs": [],
   "source": [
    "# Save trained model\n",
    "model = joblib.dump(model, \"music-recommender.joblib\")"
   ]
  },
  {
   "cell_type": "code",
   "execution_count": 9,
   "id": "03fb5ee8",
   "metadata": {},
   "outputs": [],
   "source": [
    "# Load saved model\n",
    "model = joblib.load(\"music-recommender.joblib\")"
   ]
  },
  {
   "cell_type": "code",
   "execution_count": 10,
   "id": "f914936e",
   "metadata": {},
   "outputs": [
    {
     "name": "stderr",
     "output_type": "stream",
     "text": [
      "/home/alexander/.cache/pypoetry/virtualenvs/ml-learning-project-HQ-M6Ojv-py3.8/lib/python3.8/site-packages/sklearn/base.py:441: UserWarning: X does not have valid feature names, but DecisionTreeClassifier was fitted with feature names\n",
      "  warnings.warn(\n"
     ]
    },
    {
     "data": {
      "text/plain": [
       "array(['Dance'], dtype=object)"
      ]
     },
     "execution_count": 10,
     "metadata": {},
     "output_type": "execute_result"
    }
   ],
   "source": [
    "# Making predictions\n",
    "predictions = model.predict([[21, 0]])  # What genre of music do women at the age of 21 like ?\n",
    "predictions"
   ]
  },
  {
   "cell_type": "code",
   "execution_count": 11,
   "id": "ca33a993",
   "metadata": {},
   "outputs": [
    {
     "data": {
      "text/plain": [
       "1.0"
      ]
     },
     "execution_count": 11,
     "metadata": {},
     "output_type": "execute_result"
    }
   ],
   "source": [
    "# Calculating the accuracy\n",
    "predictions = model.predict(X_test)\n",
    "score = accuracy_score(y_test, predictions)\n",
    "score"
   ]
  },
  {
   "cell_type": "code",
   "execution_count": 12,
   "id": "c2cbf8ef",
   "metadata": {},
   "outputs": [],
   "source": [
    "# Visualisation of tree graph\n",
    "tree.export_graphviz(model, out_file=\"music-recommender.dot\",\n",
    "                    feature_names=[\"age\", \"gender\"],\n",
    "                    class_names=sorted(y.unique()),\n",
    "                    label=\"all\",\n",
    "                    rounded=True,\n",
    "                    filled=True)"
   ]
  },
  {
   "cell_type": "code",
   "execution_count": null,
   "id": "2622be87",
   "metadata": {},
   "outputs": [],
   "source": []
  }
 ],
 "metadata": {
  "kernelspec": {
   "display_name": "Python 3 (ipykernel)",
   "language": "python",
   "name": "python3"
  },
  "language_info": {
   "codemirror_mode": {
    "name": "ipython",
    "version": 3
   },
   "file_extension": ".py",
   "mimetype": "text/x-python",
   "name": "python",
   "nbconvert_exporter": "python",
   "pygments_lexer": "ipython3",
   "version": "3.8.10"
  }
 },
 "nbformat": 4,
 "nbformat_minor": 5
}
